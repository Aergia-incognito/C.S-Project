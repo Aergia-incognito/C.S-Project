{
  "cells": [
    {
      "cell_type": "markdown",
      "metadata": {
        "id": "view-in-github",
        "colab_type": "text"
      },
      "source": [
        "<a href=\"https://colab.research.google.com/github/Aergia-incognito/C.S-Project/blob/main/Dexter_ipynb%EC%9D%98_%EC%82%AC%EB%B3%B8.ipynb\" target=\"_parent\"><img src=\"https://colab.research.google.com/assets/colab-badge.svg\" alt=\"Open In Colab\"/></a>"
      ]
    },
    {
      "cell_type": "markdown",
      "source": [
        "#**가설**\n",
        "\n",
        "\n",
        "\n",
        "1. 피해자와 가해자 사이의 관계(Relationship)와 사건 해결에는 큰 연관성이 있을 것이다. \n",
        "2. 살해무기(Weapon)와 사건의 해결 간에는 큰 연관성이 있을 것이다. \n",
        "3. 피해자의 인종(Victim Race, Victim Ethnicity)과 사건의 해결에는 큰 연관성이 있을 것이다."
      ],
      "metadata": {
        "id": "xm_t-INM_9Op"
      }
    },
    {
      "cell_type": "markdown",
      "metadata": {
        "id": "vJ2FFk6R4fSw"
      },
      "source": [
        "# **인코더, 라이브러리 모두 불러오기**"
      ]
    },
    {
      "cell_type": "code",
      "execution_count": 54,
      "metadata": {
        "colab": {
          "base_uri": "https://localhost:8080/",
          "height": 1000
        },
        "id": "44FOrndF9fYn",
        "outputId": "a56b1fee-d653-4991-bb59-f87809de3029"
      },
      "outputs": [
        {
          "output_type": "stream",
          "name": "stdout",
          "text": [
            "Looking in indexes: https://pypi.org/simple, https://us-python.pkg.dev/colab-wheels/public/simple/\n",
            "Requirement already satisfied: category_encoders in /usr/local/lib/python3.7/dist-packages (2.4.1)\n",
            "Requirement already satisfied: numpy>=1.14.0 in /usr/local/lib/python3.7/dist-packages (from category_encoders) (1.21.6)\n",
            "Requirement already satisfied: patsy>=0.5.1 in /usr/local/lib/python3.7/dist-packages (from category_encoders) (0.5.2)\n",
            "Requirement already satisfied: statsmodels>=0.9.0 in /usr/local/lib/python3.7/dist-packages (from category_encoders) (0.10.2)\n",
            "Requirement already satisfied: scipy>=1.0.0 in /usr/local/lib/python3.7/dist-packages (from category_encoders) (1.4.1)\n",
            "Requirement already satisfied: pandas>=0.21.1 in /usr/local/lib/python3.7/dist-packages (from category_encoders) (1.3.5)\n",
            "Requirement already satisfied: scikit-learn>=0.20.0 in /usr/local/lib/python3.7/dist-packages (from category_encoders) (1.0.2)\n",
            "Requirement already satisfied: python-dateutil>=2.7.3 in /usr/local/lib/python3.7/dist-packages (from pandas>=0.21.1->category_encoders) (2.8.2)\n",
            "Requirement already satisfied: pytz>=2017.3 in /usr/local/lib/python3.7/dist-packages (from pandas>=0.21.1->category_encoders) (2022.1)\n",
            "Requirement already satisfied: six in /usr/local/lib/python3.7/dist-packages (from patsy>=0.5.1->category_encoders) (1.15.0)\n",
            "Requirement already satisfied: joblib>=0.11 in /usr/local/lib/python3.7/dist-packages (from scikit-learn>=0.20.0->category_encoders) (1.1.0)\n",
            "Requirement already satisfied: threadpoolctl>=2.0.0 in /usr/local/lib/python3.7/dist-packages (from scikit-learn>=0.20.0->category_encoders) (3.1.0)\n",
            "Looking in indexes: https://pypi.org/simple, https://us-python.pkg.dev/colab-wheels/public/simple/\n",
            "Requirement already satisfied: plotly in /usr/local/lib/python3.7/dist-packages (5.5.0)\n",
            "Requirement already satisfied: tenacity>=6.2.0 in /usr/local/lib/python3.7/dist-packages (from plotly) (8.0.1)\n",
            "Requirement already satisfied: six in /usr/local/lib/python3.7/dist-packages (from plotly) (1.15.0)\n",
            "Looking in indexes: https://pypi.org/simple, https://us-python.pkg.dev/colab-wheels/public/simple/\n",
            "Requirement already satisfied: pyyaml==5.4.1 in /usr/local/lib/python3.7/dist-packages (5.4.1)\n",
            "Looking in indexes: https://pypi.org/simple, https://us-python.pkg.dev/colab-wheels/public/simple/\n",
            "Collecting pdpbox\n",
            "  Downloading PDPbox-0.2.1.tar.gz (34.0 MB)\n",
            "\u001b[K     |████████████████████████████████| 34.0 MB 148 kB/s \n",
            "\u001b[?25hRequirement already satisfied: pandas in /usr/local/lib/python3.7/dist-packages (from pdpbox) (1.3.5)\n",
            "Requirement already satisfied: numpy in /usr/local/lib/python3.7/dist-packages (from pdpbox) (1.21.6)\n",
            "Requirement already satisfied: scipy in /usr/local/lib/python3.7/dist-packages (from pdpbox) (1.4.1)\n",
            "Requirement already satisfied: joblib in /usr/local/lib/python3.7/dist-packages (from pdpbox) (1.1.0)\n",
            "Requirement already satisfied: psutil in /usr/local/lib/python3.7/dist-packages (from pdpbox) (5.4.8)\n",
            "Collecting matplotlib==3.1.1\n",
            "  Downloading matplotlib-3.1.1-cp37-cp37m-manylinux1_x86_64.whl (13.1 MB)\n",
            "\u001b[K     |████████████████████████████████| 13.1 MB 22.8 MB/s \n",
            "\u001b[?25hRequirement already satisfied: sklearn in /usr/local/lib/python3.7/dist-packages (from pdpbox) (0.0)\n",
            "Requirement already satisfied: python-dateutil>=2.1 in /usr/local/lib/python3.7/dist-packages (from matplotlib==3.1.1->pdpbox) (2.8.2)\n",
            "Requirement already satisfied: pyparsing!=2.0.4,!=2.1.2,!=2.1.6,>=2.0.1 in /usr/local/lib/python3.7/dist-packages (from matplotlib==3.1.1->pdpbox) (3.0.9)\n",
            "Requirement already satisfied: kiwisolver>=1.0.1 in /usr/local/lib/python3.7/dist-packages (from matplotlib==3.1.1->pdpbox) (1.4.2)\n",
            "Requirement already satisfied: cycler>=0.10 in /usr/local/lib/python3.7/dist-packages (from matplotlib==3.1.1->pdpbox) (0.11.0)\n",
            "Requirement already satisfied: typing-extensions in /usr/local/lib/python3.7/dist-packages (from kiwisolver>=1.0.1->matplotlib==3.1.1->pdpbox) (4.2.0)\n",
            "Requirement already satisfied: six>=1.5 in /usr/local/lib/python3.7/dist-packages (from python-dateutil>=2.1->matplotlib==3.1.1->pdpbox) (1.15.0)\n",
            "Requirement already satisfied: pytz>=2017.3 in /usr/local/lib/python3.7/dist-packages (from pandas->pdpbox) (2022.1)\n",
            "Requirement already satisfied: scikit-learn in /usr/local/lib/python3.7/dist-packages (from sklearn->pdpbox) (1.0.2)\n",
            "Requirement already satisfied: threadpoolctl>=2.0.0 in /usr/local/lib/python3.7/dist-packages (from scikit-learn->sklearn->pdpbox) (3.1.0)\n",
            "Building wheels for collected packages: pdpbox\n",
            "  Building wheel for pdpbox (setup.py) ... \u001b[?25l\u001b[?25hdone\n",
            "  Created wheel for pdpbox: filename=PDPbox-0.2.1-py3-none-any.whl size=35758224 sha256=2623aff30d08f31d2a79d145d0e9fb30bad4de09b3845c1efea9b4d7f7854987\n",
            "  Stored in directory: /root/.cache/pip/wheels/f4/d0/1a/b80035625c53131f52906a6fc4dd690d8efd2bf8af6a4015eb\n",
            "Successfully built pdpbox\n",
            "Installing collected packages: matplotlib, pdpbox\n",
            "  Attempting uninstall: matplotlib\n",
            "    Found existing installation: matplotlib 3.2.2\n",
            "    Uninstalling matplotlib-3.2.2:\n",
            "      Successfully uninstalled matplotlib-3.2.2\n",
            "\u001b[31mERROR: pip's dependency resolver does not currently take into account all the packages that are installed. This behaviour is the source of the following dependency conflicts.\n",
            "albumentations 0.1.12 requires imgaug<0.2.7,>=0.2.5, but you have imgaug 0.2.9 which is incompatible.\u001b[0m\n",
            "Successfully installed matplotlib-3.1.1 pdpbox-0.2.1\n"
          ]
        },
        {
          "output_type": "display_data",
          "data": {
            "application/vnd.colab-display-data+json": {
              "pip_warning": {
                "packages": [
                  "matplotlib",
                  "mpl_toolkits"
                ]
              }
            }
          },
          "metadata": {}
        },
        {
          "output_type": "stream",
          "name": "stdout",
          "text": [
            "Looking in indexes: https://pypi.org/simple, https://us-python.pkg.dev/colab-wheels/public/simple/\n",
            "Collecting eli5\n",
            "  Downloading eli5-0.13.0.tar.gz (216 kB)\n",
            "\u001b[K     |████████████████████████████████| 216 kB 6.6 MB/s \n",
            "\u001b[?25hRequirement already satisfied: attrs>17.1.0 in /usr/local/lib/python3.7/dist-packages (from eli5) (21.4.0)\n",
            "Collecting jinja2>=3.0.0\n",
            "  Downloading Jinja2-3.1.2-py3-none-any.whl (133 kB)\n",
            "\u001b[K     |████████████████████████████████| 133 kB 52.2 MB/s \n",
            "\u001b[?25hRequirement already satisfied: numpy>=1.9.0 in /usr/local/lib/python3.7/dist-packages (from eli5) (1.21.6)\n",
            "Requirement already satisfied: scipy in /usr/local/lib/python3.7/dist-packages (from eli5) (1.4.1)\n",
            "Requirement already satisfied: six in /usr/local/lib/python3.7/dist-packages (from eli5) (1.15.0)\n",
            "Requirement already satisfied: scikit-learn>=0.20 in /usr/local/lib/python3.7/dist-packages (from eli5) (1.0.2)\n",
            "Requirement already satisfied: graphviz in /usr/local/lib/python3.7/dist-packages (from eli5) (0.10.1)\n",
            "Requirement already satisfied: tabulate>=0.7.7 in /usr/local/lib/python3.7/dist-packages (from eli5) (0.8.9)\n",
            "Requirement already satisfied: MarkupSafe>=2.0 in /usr/local/lib/python3.7/dist-packages (from jinja2>=3.0.0->eli5) (2.0.1)\n",
            "Requirement already satisfied: threadpoolctl>=2.0.0 in /usr/local/lib/python3.7/dist-packages (from scikit-learn>=0.20->eli5) (3.1.0)\n",
            "Requirement already satisfied: joblib>=0.11 in /usr/local/lib/python3.7/dist-packages (from scikit-learn>=0.20->eli5) (1.1.0)\n",
            "Building wheels for collected packages: eli5\n",
            "  Building wheel for eli5 (setup.py) ... \u001b[?25l\u001b[?25hdone\n",
            "  Created wheel for eli5: filename=eli5-0.13.0-py2.py3-none-any.whl size=107748 sha256=5eae1b2c88ac3952d2583dce529d4e70504162aae03e17abe7b57f0c0336ec53\n",
            "  Stored in directory: /root/.cache/pip/wheels/cc/3c/96/3ead31a8e6c20fc0f1a707fde2e05d49a80b1b4b30096573be\n",
            "Successfully built eli5\n",
            "Installing collected packages: jinja2, eli5\n",
            "  Attempting uninstall: jinja2\n",
            "    Found existing installation: Jinja2 2.11.3\n",
            "    Uninstalling Jinja2-2.11.3:\n",
            "      Successfully uninstalled Jinja2-2.11.3\n",
            "\u001b[31mERROR: pip's dependency resolver does not currently take into account all the packages that are installed. This behaviour is the source of the following dependency conflicts.\n",
            "flask 1.1.4 requires Jinja2<3.0,>=2.10.1, but you have jinja2 3.1.2 which is incompatible.\n",
            "datascience 0.10.6 requires folium==0.2.1, but you have folium 0.8.3 which is incompatible.\u001b[0m\n",
            "Successfully installed eli5-0.13.0 jinja2-3.1.2\n"
          ]
        }
      ],
      "source": [
        "!pip install category_encoders\n",
        "!pip install plotly\n",
        "!pip install pyyaml==5.4.1\n",
        "!pip install pdpbox\n",
        "!pip install eli5"
      ]
    },
    {
      "cell_type": "code",
      "execution_count": 55,
      "metadata": {
        "id": "h6t1MpjemqW6"
      },
      "outputs": [],
      "source": [
        "import pandas as pd\n",
        "import numpy as np\n",
        "\n",
        "import seaborn as sns\n",
        "sns.set(style=\"whitegrid\", color_codes=True)\n",
        "import matplotlib\n",
        "import matplotlib.pyplot as plt\n",
        "import plotly.express as px\n",
        "%matplotlib inline\n",
        "\n",
        "from sklearn.preprocessing import OrdinalEncoder\n",
        "from sklearn.metrics import accuracy_score, classification_report, confusion_matrix, ConfusionMatrixDisplay, f1_score, plot_confusion_matrix, precision_score, recall_score, roc_auc_score, roc_curve, log_loss\n",
        "from sklearn.model_selection import train_test_split, cross_val_score, GridSearchCV, RandomizedSearchCV\n",
        "from sklearn.pipeline import Pipeline, make_pipeline\n",
        "from category_encoders import OneHotEncoder, TargetEncoder\n",
        "from sklearn.impute import SimpleImputer\n",
        "from sklearn.tree import DecisionTreeClassifier\n",
        "from sklearn.ensemble import RandomForestClassifier\n",
        "import eli5\n",
        "from eli5.sklearn import PermutationImportance\n",
        "import warnings\n",
        "warnings.filterwarnings(\"ignore\")\n",
        "\n",
        "from google.colab import drive"
      ]
    },
    {
      "cell_type": "markdown",
      "source": [
        "#**데이터 불러오기**"
      ],
      "metadata": {
        "id": "qkbUo5SS8JqT"
      }
    },
    {
      "cell_type": "code",
      "source": [
        "drive.mount('/content/drive')"
      ],
      "metadata": {
        "colab": {
          "base_uri": "https://localhost:8080/"
        },
        "id": "-goQEk7w_uvX",
        "outputId": "ffe403c0-5ed0-4c96-c822-b24a66f304cf"
      },
      "execution_count": 3,
      "outputs": [
        {
          "output_type": "stream",
          "name": "stdout",
          "text": [
            "Mounted at /content/drive\n"
          ]
        }
      ]
    },
    {
      "cell_type": "code",
      "execution_count": 4,
      "metadata": {
        "colab": {
          "base_uri": "https://localhost:8080/",
          "height": 696
        },
        "id": "Ha7X7hSNnkv3",
        "outputId": "6f70cafe-ba0f-4356-e598-da7134d6b400"
      },
      "outputs": [
        {
          "output_type": "execute_result",
          "data": {
            "text/plain": [
              "        Record ID Agency Code      Agency Name       Agency Type        City  \\\n",
              "0               1     AK00101        Anchorage  Municipal Police   Anchorage   \n",
              "1               2     AK00101        Anchorage  Municipal Police   Anchorage   \n",
              "2               3     AK00101        Anchorage  Municipal Police   Anchorage   \n",
              "3               4     AK00101        Anchorage  Municipal Police   Anchorage   \n",
              "4               5     AK00101        Anchorage  Municipal Police   Anchorage   \n",
              "...           ...         ...              ...               ...         ...   \n",
              "638449     638450     WY01500      Park County           Sheriff        Park   \n",
              "638450     638451     WY01700  Sheridan County           Sheriff    Sheridan   \n",
              "638451     638452     WY01701         Sheridan  Municipal Police    Sheridan   \n",
              "638452     638453     WY01800  Sublette County           Sheriff    Sublette   \n",
              "638453     638454     WY01902     Rock Springs  Municipal Police  Sweetwater   \n",
              "\n",
              "          State  Year      Month  Incident              Crime Type  ...  \\\n",
              "0        Alaska  1980    January         1  Murder or Manslaughter  ...   \n",
              "1        Alaska  1980      March         1  Murder or Manslaughter  ...   \n",
              "2        Alaska  1980      March         2  Murder or Manslaughter  ...   \n",
              "3        Alaska  1980      April         1  Murder or Manslaughter  ...   \n",
              "4        Alaska  1980      April         2  Murder or Manslaughter  ...   \n",
              "...         ...   ...        ...       ...                     ...  ...   \n",
              "638449  Wyoming  2014    January         1  Murder or Manslaughter  ...   \n",
              "638450  Wyoming  2014       June         1  Murder or Manslaughter  ...   \n",
              "638451  Wyoming  2014  September         1  Murder or Manslaughter  ...   \n",
              "638452  Wyoming  2014   December         1  Murder or Manslaughter  ...   \n",
              "638453  Wyoming  2014  September         1  Murder or Manslaughter  ...   \n",
              "\n",
              "       Victim Ethnicity Perpetrator Sex  Perpetrator Age  \\\n",
              "0               Unknown            Male               15   \n",
              "1               Unknown            Male               42   \n",
              "2               Unknown         Unknown                0   \n",
              "3               Unknown            Male               42   \n",
              "4               Unknown         Unknown                0   \n",
              "...                 ...             ...              ...   \n",
              "638449         Hispanic         Unknown                0   \n",
              "638450          Unknown            Male               57   \n",
              "638451          Unknown          Female               22   \n",
              "638452     Not Hispanic            Male               31   \n",
              "638453     Not Hispanic          Female               24   \n",
              "\n",
              "                     Perpetrator Race Perpetrator Ethnicity  Relationship  \\\n",
              "0       Native American/Alaska Native               Unknown  Acquaintance   \n",
              "1                               White               Unknown  Acquaintance   \n",
              "2                             Unknown               Unknown       Unknown   \n",
              "3                               White               Unknown  Acquaintance   \n",
              "4                             Unknown               Unknown       Unknown   \n",
              "...                               ...                   ...           ...   \n",
              "638449                        Unknown               Unknown       Unknown   \n",
              "638450                          White               Unknown  Acquaintance   \n",
              "638451         Asian/Pacific Islander               Unknown      Daughter   \n",
              "638452                          White          Not Hispanic      Stranger   \n",
              "638453                          White          Not Hispanic      Daughter   \n",
              "\n",
              "               Weapon Victim Count Perpetrator Count Record Source  \n",
              "0        Blunt Object            0                 0           FBI  \n",
              "1       Strangulation            0                 0           FBI  \n",
              "2             Unknown            0                 0           FBI  \n",
              "3       Strangulation            0                 0           FBI  \n",
              "4             Unknown            0                 1           FBI  \n",
              "...               ...          ...               ...           ...  \n",
              "638449        Handgun            0                 0           FBI  \n",
              "638450        Handgun            0                 0           FBI  \n",
              "638451    Suffocation            0                 0           FBI  \n",
              "638452          Knife            0                 1           FBI  \n",
              "638453   Blunt Object            0                 1           FBI  \n",
              "\n",
              "[638454 rows x 24 columns]"
            ],
            "text/html": [
              "\n",
              "  <div id=\"df-4dc1f5bc-709d-4861-a937-4ae58ede4a10\">\n",
              "    <div class=\"colab-df-container\">\n",
              "      <div>\n",
              "<style scoped>\n",
              "    .dataframe tbody tr th:only-of-type {\n",
              "        vertical-align: middle;\n",
              "    }\n",
              "\n",
              "    .dataframe tbody tr th {\n",
              "        vertical-align: top;\n",
              "    }\n",
              "\n",
              "    .dataframe thead th {\n",
              "        text-align: right;\n",
              "    }\n",
              "</style>\n",
              "<table border=\"1\" class=\"dataframe\">\n",
              "  <thead>\n",
              "    <tr style=\"text-align: right;\">\n",
              "      <th></th>\n",
              "      <th>Record ID</th>\n",
              "      <th>Agency Code</th>\n",
              "      <th>Agency Name</th>\n",
              "      <th>Agency Type</th>\n",
              "      <th>City</th>\n",
              "      <th>State</th>\n",
              "      <th>Year</th>\n",
              "      <th>Month</th>\n",
              "      <th>Incident</th>\n",
              "      <th>Crime Type</th>\n",
              "      <th>...</th>\n",
              "      <th>Victim Ethnicity</th>\n",
              "      <th>Perpetrator Sex</th>\n",
              "      <th>Perpetrator Age</th>\n",
              "      <th>Perpetrator Race</th>\n",
              "      <th>Perpetrator Ethnicity</th>\n",
              "      <th>Relationship</th>\n",
              "      <th>Weapon</th>\n",
              "      <th>Victim Count</th>\n",
              "      <th>Perpetrator Count</th>\n",
              "      <th>Record Source</th>\n",
              "    </tr>\n",
              "  </thead>\n",
              "  <tbody>\n",
              "    <tr>\n",
              "      <th>0</th>\n",
              "      <td>1</td>\n",
              "      <td>AK00101</td>\n",
              "      <td>Anchorage</td>\n",
              "      <td>Municipal Police</td>\n",
              "      <td>Anchorage</td>\n",
              "      <td>Alaska</td>\n",
              "      <td>1980</td>\n",
              "      <td>January</td>\n",
              "      <td>1</td>\n",
              "      <td>Murder or Manslaughter</td>\n",
              "      <td>...</td>\n",
              "      <td>Unknown</td>\n",
              "      <td>Male</td>\n",
              "      <td>15</td>\n",
              "      <td>Native American/Alaska Native</td>\n",
              "      <td>Unknown</td>\n",
              "      <td>Acquaintance</td>\n",
              "      <td>Blunt Object</td>\n",
              "      <td>0</td>\n",
              "      <td>0</td>\n",
              "      <td>FBI</td>\n",
              "    </tr>\n",
              "    <tr>\n",
              "      <th>1</th>\n",
              "      <td>2</td>\n",
              "      <td>AK00101</td>\n",
              "      <td>Anchorage</td>\n",
              "      <td>Municipal Police</td>\n",
              "      <td>Anchorage</td>\n",
              "      <td>Alaska</td>\n",
              "      <td>1980</td>\n",
              "      <td>March</td>\n",
              "      <td>1</td>\n",
              "      <td>Murder or Manslaughter</td>\n",
              "      <td>...</td>\n",
              "      <td>Unknown</td>\n",
              "      <td>Male</td>\n",
              "      <td>42</td>\n",
              "      <td>White</td>\n",
              "      <td>Unknown</td>\n",
              "      <td>Acquaintance</td>\n",
              "      <td>Strangulation</td>\n",
              "      <td>0</td>\n",
              "      <td>0</td>\n",
              "      <td>FBI</td>\n",
              "    </tr>\n",
              "    <tr>\n",
              "      <th>2</th>\n",
              "      <td>3</td>\n",
              "      <td>AK00101</td>\n",
              "      <td>Anchorage</td>\n",
              "      <td>Municipal Police</td>\n",
              "      <td>Anchorage</td>\n",
              "      <td>Alaska</td>\n",
              "      <td>1980</td>\n",
              "      <td>March</td>\n",
              "      <td>2</td>\n",
              "      <td>Murder or Manslaughter</td>\n",
              "      <td>...</td>\n",
              "      <td>Unknown</td>\n",
              "      <td>Unknown</td>\n",
              "      <td>0</td>\n",
              "      <td>Unknown</td>\n",
              "      <td>Unknown</td>\n",
              "      <td>Unknown</td>\n",
              "      <td>Unknown</td>\n",
              "      <td>0</td>\n",
              "      <td>0</td>\n",
              "      <td>FBI</td>\n",
              "    </tr>\n",
              "    <tr>\n",
              "      <th>3</th>\n",
              "      <td>4</td>\n",
              "      <td>AK00101</td>\n",
              "      <td>Anchorage</td>\n",
              "      <td>Municipal Police</td>\n",
              "      <td>Anchorage</td>\n",
              "      <td>Alaska</td>\n",
              "      <td>1980</td>\n",
              "      <td>April</td>\n",
              "      <td>1</td>\n",
              "      <td>Murder or Manslaughter</td>\n",
              "      <td>...</td>\n",
              "      <td>Unknown</td>\n",
              "      <td>Male</td>\n",
              "      <td>42</td>\n",
              "      <td>White</td>\n",
              "      <td>Unknown</td>\n",
              "      <td>Acquaintance</td>\n",
              "      <td>Strangulation</td>\n",
              "      <td>0</td>\n",
              "      <td>0</td>\n",
              "      <td>FBI</td>\n",
              "    </tr>\n",
              "    <tr>\n",
              "      <th>4</th>\n",
              "      <td>5</td>\n",
              "      <td>AK00101</td>\n",
              "      <td>Anchorage</td>\n",
              "      <td>Municipal Police</td>\n",
              "      <td>Anchorage</td>\n",
              "      <td>Alaska</td>\n",
              "      <td>1980</td>\n",
              "      <td>April</td>\n",
              "      <td>2</td>\n",
              "      <td>Murder or Manslaughter</td>\n",
              "      <td>...</td>\n",
              "      <td>Unknown</td>\n",
              "      <td>Unknown</td>\n",
              "      <td>0</td>\n",
              "      <td>Unknown</td>\n",
              "      <td>Unknown</td>\n",
              "      <td>Unknown</td>\n",
              "      <td>Unknown</td>\n",
              "      <td>0</td>\n",
              "      <td>1</td>\n",
              "      <td>FBI</td>\n",
              "    </tr>\n",
              "    <tr>\n",
              "      <th>...</th>\n",
              "      <td>...</td>\n",
              "      <td>...</td>\n",
              "      <td>...</td>\n",
              "      <td>...</td>\n",
              "      <td>...</td>\n",
              "      <td>...</td>\n",
              "      <td>...</td>\n",
              "      <td>...</td>\n",
              "      <td>...</td>\n",
              "      <td>...</td>\n",
              "      <td>...</td>\n",
              "      <td>...</td>\n",
              "      <td>...</td>\n",
              "      <td>...</td>\n",
              "      <td>...</td>\n",
              "      <td>...</td>\n",
              "      <td>...</td>\n",
              "      <td>...</td>\n",
              "      <td>...</td>\n",
              "      <td>...</td>\n",
              "      <td>...</td>\n",
              "    </tr>\n",
              "    <tr>\n",
              "      <th>638449</th>\n",
              "      <td>638450</td>\n",
              "      <td>WY01500</td>\n",
              "      <td>Park County</td>\n",
              "      <td>Sheriff</td>\n",
              "      <td>Park</td>\n",
              "      <td>Wyoming</td>\n",
              "      <td>2014</td>\n",
              "      <td>January</td>\n",
              "      <td>1</td>\n",
              "      <td>Murder or Manslaughter</td>\n",
              "      <td>...</td>\n",
              "      <td>Hispanic</td>\n",
              "      <td>Unknown</td>\n",
              "      <td>0</td>\n",
              "      <td>Unknown</td>\n",
              "      <td>Unknown</td>\n",
              "      <td>Unknown</td>\n",
              "      <td>Handgun</td>\n",
              "      <td>0</td>\n",
              "      <td>0</td>\n",
              "      <td>FBI</td>\n",
              "    </tr>\n",
              "    <tr>\n",
              "      <th>638450</th>\n",
              "      <td>638451</td>\n",
              "      <td>WY01700</td>\n",
              "      <td>Sheridan County</td>\n",
              "      <td>Sheriff</td>\n",
              "      <td>Sheridan</td>\n",
              "      <td>Wyoming</td>\n",
              "      <td>2014</td>\n",
              "      <td>June</td>\n",
              "      <td>1</td>\n",
              "      <td>Murder or Manslaughter</td>\n",
              "      <td>...</td>\n",
              "      <td>Unknown</td>\n",
              "      <td>Male</td>\n",
              "      <td>57</td>\n",
              "      <td>White</td>\n",
              "      <td>Unknown</td>\n",
              "      <td>Acquaintance</td>\n",
              "      <td>Handgun</td>\n",
              "      <td>0</td>\n",
              "      <td>0</td>\n",
              "      <td>FBI</td>\n",
              "    </tr>\n",
              "    <tr>\n",
              "      <th>638451</th>\n",
              "      <td>638452</td>\n",
              "      <td>WY01701</td>\n",
              "      <td>Sheridan</td>\n",
              "      <td>Municipal Police</td>\n",
              "      <td>Sheridan</td>\n",
              "      <td>Wyoming</td>\n",
              "      <td>2014</td>\n",
              "      <td>September</td>\n",
              "      <td>1</td>\n",
              "      <td>Murder or Manslaughter</td>\n",
              "      <td>...</td>\n",
              "      <td>Unknown</td>\n",
              "      <td>Female</td>\n",
              "      <td>22</td>\n",
              "      <td>Asian/Pacific Islander</td>\n",
              "      <td>Unknown</td>\n",
              "      <td>Daughter</td>\n",
              "      <td>Suffocation</td>\n",
              "      <td>0</td>\n",
              "      <td>0</td>\n",
              "      <td>FBI</td>\n",
              "    </tr>\n",
              "    <tr>\n",
              "      <th>638452</th>\n",
              "      <td>638453</td>\n",
              "      <td>WY01800</td>\n",
              "      <td>Sublette County</td>\n",
              "      <td>Sheriff</td>\n",
              "      <td>Sublette</td>\n",
              "      <td>Wyoming</td>\n",
              "      <td>2014</td>\n",
              "      <td>December</td>\n",
              "      <td>1</td>\n",
              "      <td>Murder or Manslaughter</td>\n",
              "      <td>...</td>\n",
              "      <td>Not Hispanic</td>\n",
              "      <td>Male</td>\n",
              "      <td>31</td>\n",
              "      <td>White</td>\n",
              "      <td>Not Hispanic</td>\n",
              "      <td>Stranger</td>\n",
              "      <td>Knife</td>\n",
              "      <td>0</td>\n",
              "      <td>1</td>\n",
              "      <td>FBI</td>\n",
              "    </tr>\n",
              "    <tr>\n",
              "      <th>638453</th>\n",
              "      <td>638454</td>\n",
              "      <td>WY01902</td>\n",
              "      <td>Rock Springs</td>\n",
              "      <td>Municipal Police</td>\n",
              "      <td>Sweetwater</td>\n",
              "      <td>Wyoming</td>\n",
              "      <td>2014</td>\n",
              "      <td>September</td>\n",
              "      <td>1</td>\n",
              "      <td>Murder or Manslaughter</td>\n",
              "      <td>...</td>\n",
              "      <td>Not Hispanic</td>\n",
              "      <td>Female</td>\n",
              "      <td>24</td>\n",
              "      <td>White</td>\n",
              "      <td>Not Hispanic</td>\n",
              "      <td>Daughter</td>\n",
              "      <td>Blunt Object</td>\n",
              "      <td>0</td>\n",
              "      <td>1</td>\n",
              "      <td>FBI</td>\n",
              "    </tr>\n",
              "  </tbody>\n",
              "</table>\n",
              "<p>638454 rows × 24 columns</p>\n",
              "</div>\n",
              "      <button class=\"colab-df-convert\" onclick=\"convertToInteractive('df-4dc1f5bc-709d-4861-a937-4ae58ede4a10')\"\n",
              "              title=\"Convert this dataframe to an interactive table.\"\n",
              "              style=\"display:none;\">\n",
              "        \n",
              "  <svg xmlns=\"http://www.w3.org/2000/svg\" height=\"24px\"viewBox=\"0 0 24 24\"\n",
              "       width=\"24px\">\n",
              "    <path d=\"M0 0h24v24H0V0z\" fill=\"none\"/>\n",
              "    <path d=\"M18.56 5.44l.94 2.06.94-2.06 2.06-.94-2.06-.94-.94-2.06-.94 2.06-2.06.94zm-11 1L8.5 8.5l.94-2.06 2.06-.94-2.06-.94L8.5 2.5l-.94 2.06-2.06.94zm10 10l.94 2.06.94-2.06 2.06-.94-2.06-.94-.94-2.06-.94 2.06-2.06.94z\"/><path d=\"M17.41 7.96l-1.37-1.37c-.4-.4-.92-.59-1.43-.59-.52 0-1.04.2-1.43.59L10.3 9.45l-7.72 7.72c-.78.78-.78 2.05 0 2.83L4 21.41c.39.39.9.59 1.41.59.51 0 1.02-.2 1.41-.59l7.78-7.78 2.81-2.81c.8-.78.8-2.07 0-2.86zM5.41 20L4 18.59l7.72-7.72 1.47 1.35L5.41 20z\"/>\n",
              "  </svg>\n",
              "      </button>\n",
              "      \n",
              "  <style>\n",
              "    .colab-df-container {\n",
              "      display:flex;\n",
              "      flex-wrap:wrap;\n",
              "      gap: 12px;\n",
              "    }\n",
              "\n",
              "    .colab-df-convert {\n",
              "      background-color: #E8F0FE;\n",
              "      border: none;\n",
              "      border-radius: 50%;\n",
              "      cursor: pointer;\n",
              "      display: none;\n",
              "      fill: #1967D2;\n",
              "      height: 32px;\n",
              "      padding: 0 0 0 0;\n",
              "      width: 32px;\n",
              "    }\n",
              "\n",
              "    .colab-df-convert:hover {\n",
              "      background-color: #E2EBFA;\n",
              "      box-shadow: 0px 1px 2px rgba(60, 64, 67, 0.3), 0px 1px 3px 1px rgba(60, 64, 67, 0.15);\n",
              "      fill: #174EA6;\n",
              "    }\n",
              "\n",
              "    [theme=dark] .colab-df-convert {\n",
              "      background-color: #3B4455;\n",
              "      fill: #D2E3FC;\n",
              "    }\n",
              "\n",
              "    [theme=dark] .colab-df-convert:hover {\n",
              "      background-color: #434B5C;\n",
              "      box-shadow: 0px 1px 3px 1px rgba(0, 0, 0, 0.15);\n",
              "      filter: drop-shadow(0px 1px 2px rgba(0, 0, 0, 0.3));\n",
              "      fill: #FFFFFF;\n",
              "    }\n",
              "  </style>\n",
              "\n",
              "      <script>\n",
              "        const buttonEl =\n",
              "          document.querySelector('#df-4dc1f5bc-709d-4861-a937-4ae58ede4a10 button.colab-df-convert');\n",
              "        buttonEl.style.display =\n",
              "          google.colab.kernel.accessAllowed ? 'block' : 'none';\n",
              "\n",
              "        async function convertToInteractive(key) {\n",
              "          const element = document.querySelector('#df-4dc1f5bc-709d-4861-a937-4ae58ede4a10');\n",
              "          const dataTable =\n",
              "            await google.colab.kernel.invokeFunction('convertToInteractive',\n",
              "                                                     [key], {});\n",
              "          if (!dataTable) return;\n",
              "\n",
              "          const docLinkHtml = 'Like what you see? Visit the ' +\n",
              "            '<a target=\"_blank\" href=https://colab.research.google.com/notebooks/data_table.ipynb>data table notebook</a>'\n",
              "            + ' to learn more about interactive tables.';\n",
              "          element.innerHTML = '';\n",
              "          dataTable['output_type'] = 'display_data';\n",
              "          await google.colab.output.renderOutput(dataTable, element);\n",
              "          const docLink = document.createElement('div');\n",
              "          docLink.innerHTML = docLinkHtml;\n",
              "          element.appendChild(docLink);\n",
              "        }\n",
              "      </script>\n",
              "    </div>\n",
              "  </div>\n",
              "  "
            ]
          },
          "metadata": {},
          "execution_count": 4
        }
      ],
      "source": [
        "murder = pd.read_csv(\"/content/drive/MyDrive/database.csv\")\n",
        "\n",
        "murder"
      ]
    },
    {
      "cell_type": "code",
      "source": [
        "murder.columns = [col.strip().replace(' ','_')for col in murder.columns]\n",
        "murder.columns"
      ],
      "metadata": {
        "colab": {
          "base_uri": "https://localhost:8080/"
        },
        "id": "NUcAgbC4B2Zs",
        "outputId": "e9793280-24f9-414a-8187-370b6753a0bc"
      },
      "execution_count": 5,
      "outputs": [
        {
          "output_type": "execute_result",
          "data": {
            "text/plain": [
              "Index(['Record_ID', 'Agency_Code', 'Agency_Name', 'Agency_Type', 'City',\n",
              "       'State', 'Year', 'Month', 'Incident', 'Crime_Type', 'Crime_Solved',\n",
              "       'Victim_Sex', 'Victim_Age', 'Victim_Race', 'Victim_Ethnicity',\n",
              "       'Perpetrator_Sex', 'Perpetrator_Age', 'Perpetrator_Race',\n",
              "       'Perpetrator_Ethnicity', 'Relationship', 'Weapon', 'Victim_Count',\n",
              "       'Perpetrator_Count', 'Record_Source'],\n",
              "      dtype='object')"
            ]
          },
          "metadata": {},
          "execution_count": 5
        }
      ]
    },
    {
      "cell_type": "code",
      "source": [
        "#이상치 제거 \n",
        "\n",
        "murder = murder[(murder['Victim_Age']<99)&(murder['Victim_Age'] > 0)]\n",
        "murder"
      ],
      "metadata": {
        "colab": {
          "base_uri": "https://localhost:8080/",
          "height": 678
        },
        "id": "tHzlB6V4OufX",
        "outputId": "3a644c54-b7cd-4748-a31e-4d43c9f1079a"
      },
      "execution_count": 6,
      "outputs": [
        {
          "output_type": "execute_result",
          "data": {
            "text/plain": [
              "        Record_ID Agency_Code      Agency_Name       Agency_Type       City  \\\n",
              "0               1     AK00101        Anchorage  Municipal Police  Anchorage   \n",
              "1               2     AK00101        Anchorage  Municipal Police  Anchorage   \n",
              "2               3     AK00101        Anchorage  Municipal Police  Anchorage   \n",
              "3               4     AK00101        Anchorage  Municipal Police  Anchorage   \n",
              "4               5     AK00101        Anchorage  Municipal Police  Anchorage   \n",
              "...           ...         ...              ...               ...        ...   \n",
              "638447     638448     WY01301           Casper  Municipal Police    Natrona   \n",
              "638448     638449     WY01301           Casper  Municipal Police    Natrona   \n",
              "638449     638450     WY01500      Park County           Sheriff       Park   \n",
              "638450     638451     WY01700  Sheridan County           Sheriff   Sheridan   \n",
              "638452     638453     WY01800  Sublette County           Sheriff   Sublette   \n",
              "\n",
              "          State  Year     Month  Incident              Crime_Type  ...  \\\n",
              "0        Alaska  1980   January         1  Murder or Manslaughter  ...   \n",
              "1        Alaska  1980     March         1  Murder or Manslaughter  ...   \n",
              "2        Alaska  1980     March         2  Murder or Manslaughter  ...   \n",
              "3        Alaska  1980     April         1  Murder or Manslaughter  ...   \n",
              "4        Alaska  1980     April         2  Murder or Manslaughter  ...   \n",
              "...         ...   ...       ...       ...                     ...  ...   \n",
              "638447  Wyoming  2014      June         1  Murder or Manslaughter  ...   \n",
              "638448  Wyoming  2014    August         1  Murder or Manslaughter  ...   \n",
              "638449  Wyoming  2014   January         1  Murder or Manslaughter  ...   \n",
              "638450  Wyoming  2014      June         1  Murder or Manslaughter  ...   \n",
              "638452  Wyoming  2014  December         1  Murder or Manslaughter  ...   \n",
              "\n",
              "       Victim_Ethnicity Perpetrator_Sex  Perpetrator_Age  \\\n",
              "0               Unknown            Male               15   \n",
              "1               Unknown            Male               42   \n",
              "2               Unknown         Unknown                0   \n",
              "3               Unknown            Male               42   \n",
              "4               Unknown         Unknown                0   \n",
              "...                 ...             ...              ...   \n",
              "638447     Not Hispanic            Male               22   \n",
              "638448          Unknown            Male               67   \n",
              "638449         Hispanic         Unknown                0   \n",
              "638450          Unknown            Male               57   \n",
              "638452     Not Hispanic            Male               31   \n",
              "\n",
              "                     Perpetrator_Race Perpetrator_Ethnicity  Relationship  \\\n",
              "0       Native American/Alaska Native               Unknown  Acquaintance   \n",
              "1                               White               Unknown  Acquaintance   \n",
              "2                             Unknown               Unknown       Unknown   \n",
              "3                               White               Unknown  Acquaintance   \n",
              "4                             Unknown               Unknown       Unknown   \n",
              "...                               ...                   ...           ...   \n",
              "638447                          White               Unknown    Girlfriend   \n",
              "638448                          Black               Unknown        Friend   \n",
              "638449                        Unknown               Unknown       Unknown   \n",
              "638450                          White               Unknown  Acquaintance   \n",
              "638452                          White          Not Hispanic      Stranger   \n",
              "\n",
              "               Weapon Victim_Count Perpetrator_Count Record_Source  \n",
              "0        Blunt Object            0                 0           FBI  \n",
              "1       Strangulation            0                 0           FBI  \n",
              "2             Unknown            0                 0           FBI  \n",
              "3       Strangulation            0                 0           FBI  \n",
              "4             Unknown            0                 1           FBI  \n",
              "...               ...          ...               ...           ...  \n",
              "638447        Handgun            0                 0           FBI  \n",
              "638448        Firearm            0                 0           FBI  \n",
              "638449        Handgun            0                 0           FBI  \n",
              "638450        Handgun            0                 0           FBI  \n",
              "638452          Knife            0                 1           FBI  \n",
              "\n",
              "[619755 rows x 24 columns]"
            ],
            "text/html": [
              "\n",
              "  <div id=\"df-2a4ef1a2-eb82-4877-ae97-eaa0afa11921\">\n",
              "    <div class=\"colab-df-container\">\n",
              "      <div>\n",
              "<style scoped>\n",
              "    .dataframe tbody tr th:only-of-type {\n",
              "        vertical-align: middle;\n",
              "    }\n",
              "\n",
              "    .dataframe tbody tr th {\n",
              "        vertical-align: top;\n",
              "    }\n",
              "\n",
              "    .dataframe thead th {\n",
              "        text-align: right;\n",
              "    }\n",
              "</style>\n",
              "<table border=\"1\" class=\"dataframe\">\n",
              "  <thead>\n",
              "    <tr style=\"text-align: right;\">\n",
              "      <th></th>\n",
              "      <th>Record_ID</th>\n",
              "      <th>Agency_Code</th>\n",
              "      <th>Agency_Name</th>\n",
              "      <th>Agency_Type</th>\n",
              "      <th>City</th>\n",
              "      <th>State</th>\n",
              "      <th>Year</th>\n",
              "      <th>Month</th>\n",
              "      <th>Incident</th>\n",
              "      <th>Crime_Type</th>\n",
              "      <th>...</th>\n",
              "      <th>Victim_Ethnicity</th>\n",
              "      <th>Perpetrator_Sex</th>\n",
              "      <th>Perpetrator_Age</th>\n",
              "      <th>Perpetrator_Race</th>\n",
              "      <th>Perpetrator_Ethnicity</th>\n",
              "      <th>Relationship</th>\n",
              "      <th>Weapon</th>\n",
              "      <th>Victim_Count</th>\n",
              "      <th>Perpetrator_Count</th>\n",
              "      <th>Record_Source</th>\n",
              "    </tr>\n",
              "  </thead>\n",
              "  <tbody>\n",
              "    <tr>\n",
              "      <th>0</th>\n",
              "      <td>1</td>\n",
              "      <td>AK00101</td>\n",
              "      <td>Anchorage</td>\n",
              "      <td>Municipal Police</td>\n",
              "      <td>Anchorage</td>\n",
              "      <td>Alaska</td>\n",
              "      <td>1980</td>\n",
              "      <td>January</td>\n",
              "      <td>1</td>\n",
              "      <td>Murder or Manslaughter</td>\n",
              "      <td>...</td>\n",
              "      <td>Unknown</td>\n",
              "      <td>Male</td>\n",
              "      <td>15</td>\n",
              "      <td>Native American/Alaska Native</td>\n",
              "      <td>Unknown</td>\n",
              "      <td>Acquaintance</td>\n",
              "      <td>Blunt Object</td>\n",
              "      <td>0</td>\n",
              "      <td>0</td>\n",
              "      <td>FBI</td>\n",
              "    </tr>\n",
              "    <tr>\n",
              "      <th>1</th>\n",
              "      <td>2</td>\n",
              "      <td>AK00101</td>\n",
              "      <td>Anchorage</td>\n",
              "      <td>Municipal Police</td>\n",
              "      <td>Anchorage</td>\n",
              "      <td>Alaska</td>\n",
              "      <td>1980</td>\n",
              "      <td>March</td>\n",
              "      <td>1</td>\n",
              "      <td>Murder or Manslaughter</td>\n",
              "      <td>...</td>\n",
              "      <td>Unknown</td>\n",
              "      <td>Male</td>\n",
              "      <td>42</td>\n",
              "      <td>White</td>\n",
              "      <td>Unknown</td>\n",
              "      <td>Acquaintance</td>\n",
              "      <td>Strangulation</td>\n",
              "      <td>0</td>\n",
              "      <td>0</td>\n",
              "      <td>FBI</td>\n",
              "    </tr>\n",
              "    <tr>\n",
              "      <th>2</th>\n",
              "      <td>3</td>\n",
              "      <td>AK00101</td>\n",
              "      <td>Anchorage</td>\n",
              "      <td>Municipal Police</td>\n",
              "      <td>Anchorage</td>\n",
              "      <td>Alaska</td>\n",
              "      <td>1980</td>\n",
              "      <td>March</td>\n",
              "      <td>2</td>\n",
              "      <td>Murder or Manslaughter</td>\n",
              "      <td>...</td>\n",
              "      <td>Unknown</td>\n",
              "      <td>Unknown</td>\n",
              "      <td>0</td>\n",
              "      <td>Unknown</td>\n",
              "      <td>Unknown</td>\n",
              "      <td>Unknown</td>\n",
              "      <td>Unknown</td>\n",
              "      <td>0</td>\n",
              "      <td>0</td>\n",
              "      <td>FBI</td>\n",
              "    </tr>\n",
              "    <tr>\n",
              "      <th>3</th>\n",
              "      <td>4</td>\n",
              "      <td>AK00101</td>\n",
              "      <td>Anchorage</td>\n",
              "      <td>Municipal Police</td>\n",
              "      <td>Anchorage</td>\n",
              "      <td>Alaska</td>\n",
              "      <td>1980</td>\n",
              "      <td>April</td>\n",
              "      <td>1</td>\n",
              "      <td>Murder or Manslaughter</td>\n",
              "      <td>...</td>\n",
              "      <td>Unknown</td>\n",
              "      <td>Male</td>\n",
              "      <td>42</td>\n",
              "      <td>White</td>\n",
              "      <td>Unknown</td>\n",
              "      <td>Acquaintance</td>\n",
              "      <td>Strangulation</td>\n",
              "      <td>0</td>\n",
              "      <td>0</td>\n",
              "      <td>FBI</td>\n",
              "    </tr>\n",
              "    <tr>\n",
              "      <th>4</th>\n",
              "      <td>5</td>\n",
              "      <td>AK00101</td>\n",
              "      <td>Anchorage</td>\n",
              "      <td>Municipal Police</td>\n",
              "      <td>Anchorage</td>\n",
              "      <td>Alaska</td>\n",
              "      <td>1980</td>\n",
              "      <td>April</td>\n",
              "      <td>2</td>\n",
              "      <td>Murder or Manslaughter</td>\n",
              "      <td>...</td>\n",
              "      <td>Unknown</td>\n",
              "      <td>Unknown</td>\n",
              "      <td>0</td>\n",
              "      <td>Unknown</td>\n",
              "      <td>Unknown</td>\n",
              "      <td>Unknown</td>\n",
              "      <td>Unknown</td>\n",
              "      <td>0</td>\n",
              "      <td>1</td>\n",
              "      <td>FBI</td>\n",
              "    </tr>\n",
              "    <tr>\n",
              "      <th>...</th>\n",
              "      <td>...</td>\n",
              "      <td>...</td>\n",
              "      <td>...</td>\n",
              "      <td>...</td>\n",
              "      <td>...</td>\n",
              "      <td>...</td>\n",
              "      <td>...</td>\n",
              "      <td>...</td>\n",
              "      <td>...</td>\n",
              "      <td>...</td>\n",
              "      <td>...</td>\n",
              "      <td>...</td>\n",
              "      <td>...</td>\n",
              "      <td>...</td>\n",
              "      <td>...</td>\n",
              "      <td>...</td>\n",
              "      <td>...</td>\n",
              "      <td>...</td>\n",
              "      <td>...</td>\n",
              "      <td>...</td>\n",
              "      <td>...</td>\n",
              "    </tr>\n",
              "    <tr>\n",
              "      <th>638447</th>\n",
              "      <td>638448</td>\n",
              "      <td>WY01301</td>\n",
              "      <td>Casper</td>\n",
              "      <td>Municipal Police</td>\n",
              "      <td>Natrona</td>\n",
              "      <td>Wyoming</td>\n",
              "      <td>2014</td>\n",
              "      <td>June</td>\n",
              "      <td>1</td>\n",
              "      <td>Murder or Manslaughter</td>\n",
              "      <td>...</td>\n",
              "      <td>Not Hispanic</td>\n",
              "      <td>Male</td>\n",
              "      <td>22</td>\n",
              "      <td>White</td>\n",
              "      <td>Unknown</td>\n",
              "      <td>Girlfriend</td>\n",
              "      <td>Handgun</td>\n",
              "      <td>0</td>\n",
              "      <td>0</td>\n",
              "      <td>FBI</td>\n",
              "    </tr>\n",
              "    <tr>\n",
              "      <th>638448</th>\n",
              "      <td>638449</td>\n",
              "      <td>WY01301</td>\n",
              "      <td>Casper</td>\n",
              "      <td>Municipal Police</td>\n",
              "      <td>Natrona</td>\n",
              "      <td>Wyoming</td>\n",
              "      <td>2014</td>\n",
              "      <td>August</td>\n",
              "      <td>1</td>\n",
              "      <td>Murder or Manslaughter</td>\n",
              "      <td>...</td>\n",
              "      <td>Unknown</td>\n",
              "      <td>Male</td>\n",
              "      <td>67</td>\n",
              "      <td>Black</td>\n",
              "      <td>Unknown</td>\n",
              "      <td>Friend</td>\n",
              "      <td>Firearm</td>\n",
              "      <td>0</td>\n",
              "      <td>0</td>\n",
              "      <td>FBI</td>\n",
              "    </tr>\n",
              "    <tr>\n",
              "      <th>638449</th>\n",
              "      <td>638450</td>\n",
              "      <td>WY01500</td>\n",
              "      <td>Park County</td>\n",
              "      <td>Sheriff</td>\n",
              "      <td>Park</td>\n",
              "      <td>Wyoming</td>\n",
              "      <td>2014</td>\n",
              "      <td>January</td>\n",
              "      <td>1</td>\n",
              "      <td>Murder or Manslaughter</td>\n",
              "      <td>...</td>\n",
              "      <td>Hispanic</td>\n",
              "      <td>Unknown</td>\n",
              "      <td>0</td>\n",
              "      <td>Unknown</td>\n",
              "      <td>Unknown</td>\n",
              "      <td>Unknown</td>\n",
              "      <td>Handgun</td>\n",
              "      <td>0</td>\n",
              "      <td>0</td>\n",
              "      <td>FBI</td>\n",
              "    </tr>\n",
              "    <tr>\n",
              "      <th>638450</th>\n",
              "      <td>638451</td>\n",
              "      <td>WY01700</td>\n",
              "      <td>Sheridan County</td>\n",
              "      <td>Sheriff</td>\n",
              "      <td>Sheridan</td>\n",
              "      <td>Wyoming</td>\n",
              "      <td>2014</td>\n",
              "      <td>June</td>\n",
              "      <td>1</td>\n",
              "      <td>Murder or Manslaughter</td>\n",
              "      <td>...</td>\n",
              "      <td>Unknown</td>\n",
              "      <td>Male</td>\n",
              "      <td>57</td>\n",
              "      <td>White</td>\n",
              "      <td>Unknown</td>\n",
              "      <td>Acquaintance</td>\n",
              "      <td>Handgun</td>\n",
              "      <td>0</td>\n",
              "      <td>0</td>\n",
              "      <td>FBI</td>\n",
              "    </tr>\n",
              "    <tr>\n",
              "      <th>638452</th>\n",
              "      <td>638453</td>\n",
              "      <td>WY01800</td>\n",
              "      <td>Sublette County</td>\n",
              "      <td>Sheriff</td>\n",
              "      <td>Sublette</td>\n",
              "      <td>Wyoming</td>\n",
              "      <td>2014</td>\n",
              "      <td>December</td>\n",
              "      <td>1</td>\n",
              "      <td>Murder or Manslaughter</td>\n",
              "      <td>...</td>\n",
              "      <td>Not Hispanic</td>\n",
              "      <td>Male</td>\n",
              "      <td>31</td>\n",
              "      <td>White</td>\n",
              "      <td>Not Hispanic</td>\n",
              "      <td>Stranger</td>\n",
              "      <td>Knife</td>\n",
              "      <td>0</td>\n",
              "      <td>1</td>\n",
              "      <td>FBI</td>\n",
              "    </tr>\n",
              "  </tbody>\n",
              "</table>\n",
              "<p>619755 rows × 24 columns</p>\n",
              "</div>\n",
              "      <button class=\"colab-df-convert\" onclick=\"convertToInteractive('df-2a4ef1a2-eb82-4877-ae97-eaa0afa11921')\"\n",
              "              title=\"Convert this dataframe to an interactive table.\"\n",
              "              style=\"display:none;\">\n",
              "        \n",
              "  <svg xmlns=\"http://www.w3.org/2000/svg\" height=\"24px\"viewBox=\"0 0 24 24\"\n",
              "       width=\"24px\">\n",
              "    <path d=\"M0 0h24v24H0V0z\" fill=\"none\"/>\n",
              "    <path d=\"M18.56 5.44l.94 2.06.94-2.06 2.06-.94-2.06-.94-.94-2.06-.94 2.06-2.06.94zm-11 1L8.5 8.5l.94-2.06 2.06-.94-2.06-.94L8.5 2.5l-.94 2.06-2.06.94zm10 10l.94 2.06.94-2.06 2.06-.94-2.06-.94-.94-2.06-.94 2.06-2.06.94z\"/><path d=\"M17.41 7.96l-1.37-1.37c-.4-.4-.92-.59-1.43-.59-.52 0-1.04.2-1.43.59L10.3 9.45l-7.72 7.72c-.78.78-.78 2.05 0 2.83L4 21.41c.39.39.9.59 1.41.59.51 0 1.02-.2 1.41-.59l7.78-7.78 2.81-2.81c.8-.78.8-2.07 0-2.86zM5.41 20L4 18.59l7.72-7.72 1.47 1.35L5.41 20z\"/>\n",
              "  </svg>\n",
              "      </button>\n",
              "      \n",
              "  <style>\n",
              "    .colab-df-container {\n",
              "      display:flex;\n",
              "      flex-wrap:wrap;\n",
              "      gap: 12px;\n",
              "    }\n",
              "\n",
              "    .colab-df-convert {\n",
              "      background-color: #E8F0FE;\n",
              "      border: none;\n",
              "      border-radius: 50%;\n",
              "      cursor: pointer;\n",
              "      display: none;\n",
              "      fill: #1967D2;\n",
              "      height: 32px;\n",
              "      padding: 0 0 0 0;\n",
              "      width: 32px;\n",
              "    }\n",
              "\n",
              "    .colab-df-convert:hover {\n",
              "      background-color: #E2EBFA;\n",
              "      box-shadow: 0px 1px 2px rgba(60, 64, 67, 0.3), 0px 1px 3px 1px rgba(60, 64, 67, 0.15);\n",
              "      fill: #174EA6;\n",
              "    }\n",
              "\n",
              "    [theme=dark] .colab-df-convert {\n",
              "      background-color: #3B4455;\n",
              "      fill: #D2E3FC;\n",
              "    }\n",
              "\n",
              "    [theme=dark] .colab-df-convert:hover {\n",
              "      background-color: #434B5C;\n",
              "      box-shadow: 0px 1px 3px 1px rgba(0, 0, 0, 0.15);\n",
              "      filter: drop-shadow(0px 1px 2px rgba(0, 0, 0, 0.3));\n",
              "      fill: #FFFFFF;\n",
              "    }\n",
              "  </style>\n",
              "\n",
              "      <script>\n",
              "        const buttonEl =\n",
              "          document.querySelector('#df-2a4ef1a2-eb82-4877-ae97-eaa0afa11921 button.colab-df-convert');\n",
              "        buttonEl.style.display =\n",
              "          google.colab.kernel.accessAllowed ? 'block' : 'none';\n",
              "\n",
              "        async function convertToInteractive(key) {\n",
              "          const element = document.querySelector('#df-2a4ef1a2-eb82-4877-ae97-eaa0afa11921');\n",
              "          const dataTable =\n",
              "            await google.colab.kernel.invokeFunction('convertToInteractive',\n",
              "                                                     [key], {});\n",
              "          if (!dataTable) return;\n",
              "\n",
              "          const docLinkHtml = 'Like what you see? Visit the ' +\n",
              "            '<a target=\"_blank\" href=https://colab.research.google.com/notebooks/data_table.ipynb>data table notebook</a>'\n",
              "            + ' to learn more about interactive tables.';\n",
              "          element.innerHTML = '';\n",
              "          dataTable['output_type'] = 'display_data';\n",
              "          await google.colab.output.renderOutput(dataTable, element);\n",
              "          const docLink = document.createElement('div');\n",
              "          docLink.innerHTML = docLinkHtml;\n",
              "          element.appendChild(docLink);\n",
              "        }\n",
              "      </script>\n",
              "    </div>\n",
              "  </div>\n",
              "  "
            ]
          },
          "metadata": {},
          "execution_count": 6
        }
      ]
    },
    {
      "cell_type": "code",
      "source": [
        "#타겟의 분포 살피기\n",
        "target = murder['Crime_Solved']\n",
        "sns.countplot(target);"
      ],
      "metadata": {
        "colab": {
          "base_uri": "https://localhost:8080/",
          "height": 285
        },
        "id": "Ki_PAcproyrQ",
        "outputId": "66090ef8-fe88-480b-e2c0-7d1ca10cddd4"
      },
      "execution_count": 7,
      "outputs": [
        {
          "output_type": "display_data",
          "data": {
            "text/plain": [
              "<Figure size 432x288 with 1 Axes>"
            ],
            "image/png": "[encoded data removed]"
          },
          "metadata": {
            "needs_background": "light"
          }
        }
      ]
    },
    {
      "cell_type": "code",
      "execution_count": 8,
      "metadata": {
        "colab": {
          "base_uri": "https://localhost:8080/",
          "height": 424
        },
        "id": "Q_TR2d9i2RnM",
        "outputId": "db633796-7f86-4068-b7f9-de26932c20c6"
      },
      "outputs": [
        {
          "output_type": "execute_result",
          "data": {
            "text/plain": [
              "        Crime_Solved\n",
              "0                  1\n",
              "1                  1\n",
              "2                  0\n",
              "3                  1\n",
              "4                  0\n",
              "...              ...\n",
              "638447             1\n",
              "638448             1\n",
              "638449             0\n",
              "638450             1\n",
              "638452             1\n",
              "\n",
              "[619755 rows x 1 columns]"
            ],
            "text/html": [
              "\n",
              "  <div id=\"df-bb0b9a7d-24c4-46ed-a807-024d00a1c2e0\">\n",
              "    <div class=\"colab-df-container\">\n",
              "      <div>\n",
              "<style scoped>\n",
              "    .dataframe tbody tr th:only-of-type {\n",
              "        vertical-align: middle;\n",
              "    }\n",
              "\n",
              "    .dataframe tbody tr th {\n",
              "        vertical-align: top;\n",
              "    }\n",
              "\n",
              "    .dataframe thead th {\n",
              "        text-align: right;\n",
              "    }\n",
              "</style>\n",
              "<table border=\"1\" class=\"dataframe\">\n",
              "  <thead>\n",
              "    <tr style=\"text-align: right;\">\n",
              "      <th></th>\n",
              "      <th>Crime_Solved</th>\n",
              "    </tr>\n",
              "  </thead>\n",
              "  <tbody>\n",
              "    <tr>\n",
              "      <th>0</th>\n",
              "      <td>1</td>\n",
              "    </tr>\n",
              "    <tr>\n",
              "      <th>1</th>\n",
              "      <td>1</td>\n",
              "    </tr>\n",
              "    <tr>\n",
              "      <th>2</th>\n",
              "      <td>0</td>\n",
              "    </tr>\n",
              "    <tr>\n",
              "      <th>3</th>\n",
              "      <td>1</td>\n",
              "    </tr>\n",
              "    <tr>\n",
              "      <th>4</th>\n",
              "      <td>0</td>\n",
              "    </tr>\n",
              "    <tr>\n",
              "      <th>...</th>\n",
              "      <td>...</td>\n",
              "    </tr>\n",
              "    <tr>\n",
              "      <th>638447</th>\n",
              "      <td>1</td>\n",
              "    </tr>\n",
              "    <tr>\n",
              "      <th>638448</th>\n",
              "      <td>1</td>\n",
              "    </tr>\n",
              "    <tr>\n",
              "      <th>638449</th>\n",
              "      <td>0</td>\n",
              "    </tr>\n",
              "    <tr>\n",
              "      <th>638450</th>\n",
              "      <td>1</td>\n",
              "    </tr>\n",
              "    <tr>\n",
              "      <th>638452</th>\n",
              "      <td>1</td>\n",
              "    </tr>\n",
              "  </tbody>\n",
              "</table>\n",
              "<p>619755 rows × 1 columns</p>\n",
              "</div>\n",
              "      <button class=\"colab-df-convert\" onclick=\"convertToInteractive('df-bb0b9a7d-24c4-46ed-a807-024d00a1c2e0')\"\n",
              "              title=\"Convert this dataframe to an interactive table.\"\n",
              "              style=\"display:none;\">\n",
              "        \n",
              "  <svg xmlns=\"http://www.w3.org/2000/svg\" height=\"24px\"viewBox=\"0 0 24 24\"\n",
              "       width=\"24px\">\n",
              "    <path d=\"M0 0h24v24H0V0z\" fill=\"none\"/>\n",
              "    <path d=\"M18.56 5.44l.94 2.06.94-2.06 2.06-.94-2.06-.94-.94-2.06-.94 2.06-2.06.94zm-11 1L8.5 8.5l.94-2.06 2.06-.94-2.06-.94L8.5 2.5l-.94 2.06-2.06.94zm10 10l.94 2.06.94-2.06 2.06-.94-2.06-.94-.94-2.06-.94 2.06-2.06.94z\"/><path d=\"M17.41 7.96l-1.37-1.37c-.4-.4-.92-.59-1.43-.59-.52 0-1.04.2-1.43.59L10.3 9.45l-7.72 7.72c-.78.78-.78 2.05 0 2.83L4 21.41c.39.39.9.59 1.41.59.51 0 1.02-.2 1.41-.59l7.78-7.78 2.81-2.81c.8-.78.8-2.07 0-2.86zM5.41 20L4 18.59l7.72-7.72 1.47 1.35L5.41 20z\"/>\n",
              "  </svg>\n",
              "      </button>\n",
              "      \n",
              "  <style>\n",
              "    .colab-df-container {\n",
              "      display:flex;\n",
              "      flex-wrap:wrap;\n",
              "      gap: 12px;\n",
              "    }\n",
              "\n",
              "    .colab-df-convert {\n",
              "      background-color: #E8F0FE;\n",
              "      border: none;\n",
              "      border-radius: 50%;\n",
              "      cursor: pointer;\n",
              "      display: none;\n",
              "      fill: #1967D2;\n",
              "      height: 32px;\n",
              "      padding: 0 0 0 0;\n",
              "      width: 32px;\n",
              "    }\n",
              "\n",
              "    .colab-df-convert:hover {\n",
              "      background-color: #E2EBFA;\n",
              "      box-shadow: 0px 1px 2px rgba(60, 64, 67, 0.3), 0px 1px 3px 1px rgba(60, 64, 67, 0.15);\n",
              "      fill: #174EA6;\n",
              "    }\n",
              "\n",
              "    [theme=dark] .colab-df-convert {\n",
              "      background-color: #3B4455;\n",
              "      fill: #D2E3FC;\n",
              "    }\n",
              "\n",
              "    [theme=dark] .colab-df-convert:hover {\n",
              "      background-color: #434B5C;\n",
              "      box-shadow: 0px 1px 3px 1px rgba(0, 0, 0, 0.15);\n",
              "      filter: drop-shadow(0px 1px 2px rgba(0, 0, 0, 0.3));\n",
              "      fill: #FFFFFF;\n",
              "    }\n",
              "  </style>\n",
              "\n",
              "      <script>\n",
              "        const buttonEl =\n",
              "          document.querySelector('#df-bb0b9a7d-24c4-46ed-a807-024d00a1c2e0 button.colab-df-convert');\n",
              "        buttonEl.style.display =\n",
              "          google.colab.kernel.accessAllowed ? 'block' : 'none';\n",
              "\n",
              "        async function convertToInteractive(key) {\n",
              "          const element = document.querySelector('#df-bb0b9a7d-24c4-46ed-a807-024d00a1c2e0');\n",
              "          const dataTable =\n",
              "            await google.colab.kernel.invokeFunction('convertToInteractive',\n",
              "                                                     [key], {});\n",
              "          if (!dataTable) return;\n",
              "\n",
              "          const docLinkHtml = 'Like what you see? Visit the ' +\n",
              "            '<a target=\"_blank\" href=https://colab.research.google.com/notebooks/data_table.ipynb>data table notebook</a>'\n",
              "            + ' to learn more about interactive tables.';\n",
              "          element.innerHTML = '';\n",
              "          dataTable['output_type'] = 'display_data';\n",
              "          await google.colab.output.renderOutput(dataTable, element);\n",
              "          const docLink = document.createElement('div');\n",
              "          docLink.innerHTML = docLinkHtml;\n",
              "          element.appendChild(docLink);\n",
              "        }\n",
              "      </script>\n",
              "    </div>\n",
              "  </div>\n",
              "  "
            ]
          },
          "metadata": {},
          "execution_count": 8
        }
      ],
      "source": [
        "#yes:1, no:0로 타겟값을 오디널 인코딩 해준다. \n",
        "enc = OrdinalEncoder()\n",
        "murder[['Crime_Solved']] = enc.fit_transform(murder[['Crime_Solved']]).astype(int) \n",
        "murder[['Crime_Solved']]"
      ]
    },
    {
      "cell_type": "markdown",
      "metadata": {
        "id": "NYcf1ZaP2nZh"
      },
      "source": [
        "# **특성공학**"
      ]
    },
    {
      "cell_type": "code",
      "execution_count": 9,
      "metadata": {
        "id": "k2Kqfx7V2lk8"
      },
      "outputs": [],
      "source": [
        "#ID나 코드, 에이전시 이름 등 관련이 없는 특성들과 애매한 정보를 담은 컬럼들, 그리고 카디널리티가 높은 칼럼들을 드랍한다.\n",
        "df = murder.copy()\n",
        "df = murder.drop(['Record_ID','Agency_Code','Agency_Name','Record_Source','Incident','Victim_Count'] , axis = 1)  \n",
        "\n",
        "#가해자와 관련된 정보는 학습시 알 수 없으므로 데이터 누수 방지를 위해 미리 제거한다. \n",
        "drop_data = [col for col in murder.columns if 'Perp' in col]\n",
        "df.drop(columns = drop_data, inplace = True)"
      ]
    },
    {
      "cell_type": "code",
      "source": [
        "#제거된 특성 확인하기\n",
        "df.columns"
      ],
      "metadata": {
        "colab": {
          "base_uri": "https://localhost:8080/"
        },
        "id": "v502wUCGJ7CU",
        "outputId": "c17cd957-30f8-4422-fea0-48816159dae9"
      },
      "execution_count": 10,
      "outputs": [
        {
          "output_type": "execute_result",
          "data": {
            "text/plain": [
              "Index(['Agency_Type', 'City', 'State', 'Year', 'Month', 'Crime_Type',\n",
              "       'Crime_Solved', 'Victim_Sex', 'Victim_Age', 'Victim_Race',\n",
              "       'Victim_Ethnicity', 'Relationship', 'Weapon'],\n",
              "      dtype='object')"
            ]
          },
          "metadata": {},
          "execution_count": 10
        }
      ]
    },
    {
      "cell_type": "markdown",
      "source": [
        "#**Train/Test 데이터 나누기**"
      ],
      "metadata": {
        "id": "Xvu_tV-7NMjK"
      }
    },
    {
      "cell_type": "code",
      "source": [
        "#target 지정\n",
        "target = 'Crime_Solved'\n",
        "\n",
        "#train/test 분리(8:2)\n",
        "train, test = train_test_split(df, train_size = 0.8,\n",
        "                               stratify = murder[target], random_state = 2)\n",
        "\n",
        "#train 데이터를 train/val로 분리(8:2)\n",
        "train, val = train_test_split(train, train_size = 0.8,\n",
        "                              stratify = train[target], random_state = 2)\n",
        "\n",
        "train.shape, val.shape, test.shape\n"
      ],
      "metadata": {
        "colab": {
          "base_uri": "https://localhost:8080/"
        },
        "id": "QRaRgKtyNS5h",
        "outputId": "d732004e-bb54-4834-8689-857c0e1f6d46"
      },
      "execution_count": 18,
      "outputs": [
        {
          "output_type": "execute_result",
          "data": {
            "text/plain": [
              "((396643, 13), (99161, 13), (123951, 13))"
            ]
          },
          "metadata": {},
          "execution_count": 18
        }
      ]
    },
    {
      "cell_type": "code",
      "source": [
        "#x, y 분리해주기\n",
        "\n",
        "X_train = train.drop(columns = [target])\n",
        "y_train = train[target]\n",
        "\n",
        "X_val = val.drop(columns = [target])\n",
        "y_val = val[target]\n",
        "\n",
        "X_test = test.drop(columns = [target])\n",
        "y_test = test[target]"
      ],
      "metadata": {
        "id": "0bNqYx7oPGz8"
      },
      "execution_count": 19,
      "outputs": []
    },
    {
      "cell_type": "markdown",
      "source": [
        "#**Baseline Model 만들기**"
      ],
      "metadata": {
        "id": "OmEvxA-HP-Jy"
      }
    },
    {
      "cell_type": "code",
      "source": [
        "#타겟 범주의 비율 확인하기\n",
        "df[target].value_counts(normalize = True)"
      ],
      "metadata": {
        "colab": {
          "base_uri": "https://localhost:8080/"
        },
        "id": "xnrIaN7xQCha",
        "outputId": "b698dd43-d899-4e47-819e-d2fe81b3e703"
      },
      "execution_count": 20,
      "outputs": [
        {
          "output_type": "execute_result",
          "data": {
            "text/plain": [
              "1    0.703396\n",
              "0    0.296604\n",
              "Name: Crime_Solved, dtype: float64"
            ]
          },
          "metadata": {},
          "execution_count": 20
        }
      ]
    },
    {
      "cell_type": "code",
      "source": [
        "#이진분류에서 기준모델은 타겟의 최빈값이 된다. \n",
        "print('기준모델의 정확도는: ', df[target].value_counts(normalize = True)[1])"
      ],
      "metadata": {
        "colab": {
          "base_uri": "https://localhost:8080/"
        },
        "id": "IPEf5AoFU77-",
        "outputId": "1f92d36e-75bc-44b8-c058-ab41f4761d25"
      },
      "execution_count": 21,
      "outputs": [
        {
          "output_type": "stream",
          "name": "stdout",
          "text": [
            "기준모델의 정확도는:  0.7033956966865939\n"
          ]
        }
      ]
    },
    {
      "cell_type": "code",
      "source": [
        "#기준모델 y_pred 만들기-> 최빈값인 1로 타겟의 길이만큼 가득찬 리스트 \n",
        "y_pred = [1] * len(y_train)\n",
        "print(\"training accuracy: \", round(accuracy_score(y_train, y_pred),4))"
      ],
      "metadata": {
        "colab": {
          "base_uri": "https://localhost:8080/"
        },
        "id": "mZ75Go5GVURv",
        "outputId": "acc75424-585a-4866-fc28-380c711d5a8d"
      },
      "execution_count": 22,
      "outputs": [
        {
          "output_type": "stream",
          "name": "stdout",
          "text": [
            "training accuracy:  0.7034\n"
          ]
        }
      ]
    },
    {
      "cell_type": "code",
      "source": [
        "#최빈값으로만 찍은 베이스라인 모델이라 0에 대해서는 예측을 전혀 못한다. \n",
        "y_val_pred = [1]*len(y_val)\n",
        "print(classification_report(y_val, y_val_pred))"
      ],
      "metadata": {
        "colab": {
          "base_uri": "https://localhost:8080/"
        },
        "id": "VL-tLH5lhBCK",
        "outputId": "7b906cb9-d0c5-46f4-f909-ed78d3666b2c"
      },
      "execution_count": 23,
      "outputs": [
        {
          "output_type": "stream",
          "name": "stdout",
          "text": [
            "              precision    recall  f1-score   support\n",
            "\n",
            "           0       0.00      0.00      0.00     29412\n",
            "           1       0.70      1.00      0.83     69749\n",
            "\n",
            "    accuracy                           0.70     99161\n",
            "   macro avg       0.35      0.50      0.41     99161\n",
            "weighted avg       0.49      0.70      0.58     99161\n",
            "\n"
          ]
        }
      ]
    },
    {
      "cell_type": "markdown",
      "source": [
        "#**모델링**"
      ],
      "metadata": {
        "id": "mCNmRu1JSoTo"
      }
    },
    {
      "cell_type": "markdown",
      "source": [
        "**파이프라인 만들기**"
      ],
      "metadata": {
        "id": "sENkNRydS3Wj"
      }
    },
    {
      "cell_type": "code",
      "source": [
        "pipe = make_pipeline(OrdinalEncoder(handle_unknown= 'use_encoded_value', unknown_value=np.nan),\n",
        "                     SimpleImputer(),\n",
        "                     DecisionTreeClassifier())\n",
        "pipe.fit(X_train, y_train)\n",
        "print(\"훈련세트의 정확도: \", pipe.score(X_train, y_train))\n",
        "print(\"검증세트의 정확도: \", pipe.score(X_val,y_val))"
      ],
      "metadata": {
        "id": "n29IKwq_Sr8S",
        "colab": {
          "base_uri": "https://localhost:8080/"
        },
        "outputId": "2d0d4fea-3e70-42c7-de9b-1746962e320a"
      },
      "execution_count": 28,
      "outputs": [
        {
          "output_type": "stream",
          "name": "stdout",
          "text": [
            "훈련세트의 정확도:  0.9930239535300005\n",
            "검증세트의 정확도:  0.8217343512066235\n"
          ]
        }
      ]
    },
    {
      "cell_type": "code",
      "source": [
        "predictions = pipe.predict(X_val)"
      ],
      "metadata": {
        "id": "IghjBUlc7VAu"
      },
      "execution_count": 29,
      "outputs": []
    },
    {
      "cell_type": "code",
      "source": [
        "print(classification_report(y_val, predictions))"
      ],
      "metadata": {
        "colab": {
          "base_uri": "https://localhost:8080/"
        },
        "id": "uFwJJ1uz7UQm",
        "outputId": "1ba28860-44da-44ee-db37-fe1b77b8c72a"
      },
      "execution_count": 30,
      "outputs": [
        {
          "output_type": "stream",
          "name": "stdout",
          "text": [
            "              precision    recall  f1-score   support\n",
            "\n",
            "           0       0.70      0.70      0.70     29412\n",
            "           1       0.87      0.87      0.87     69749\n",
            "\n",
            "    accuracy                           0.82     99161\n",
            "   macro avg       0.79      0.79      0.79     99161\n",
            "weighted avg       0.82      0.82      0.82     99161\n",
            "\n"
          ]
        }
      ]
    },
    {
      "cell_type": "code",
      "source": [
        "#과적합 해결하기\n",
        "pipe = make_pipeline(OrdinalEncoder(handle_unknown= 'use_encoded_value', unknown_value=np.nan),\n",
        "                     SimpleImputer(),\n",
        "                     DecisionTreeClassifier(max_depth=6, random_state= 2))\n",
        "pipe.fit(X_train, y_train)\n",
        "print(\"훈련세트의 정확도: \", pipe.score(X_train, y_train))\n",
        "print(\"검증세트의 정확도: \", pipe.score(X_val,y_val))\n"
      ],
      "metadata": {
        "colab": {
          "base_uri": "https://localhost:8080/"
        },
        "id": "WuK8MVjmfwpD",
        "outputId": "f4a4525b-65d1-44d2-9621-8d61d44fb44c"
      },
      "execution_count": 25,
      "outputs": [
        {
          "output_type": "stream",
          "name": "stdout",
          "text": [
            "훈련세트의 정확도:  0.8436024334224983\n",
            "검증세트의 정확도:  0.8444852310888353\n"
          ]
        }
      ]
    },
    {
      "cell_type": "code",
      "source": [
        "#confusion matrix 그려보기\n",
        "\n",
        "predictions = pipe.predict(X_val)\n",
        "cm = confusion_matrix(y_val, predictions)\n",
        "cmd = ConfusionMatrixDisplay(confusion_matrix = cm, display_labels = None)\n",
        "cmd.plot()"
      ],
      "metadata": {
        "colab": {
          "base_uri": "https://localhost:8080/",
          "height": 520
        },
        "id": "uEHTg-jHh9Iy",
        "outputId": "8fc1ff44-6533-4aab-80af-c7f5c2de1e99"
      },
      "execution_count": null,
      "outputs": [
        {
          "output_type": "execute_result",
          "data": {
            "text/plain": [
              "<sklearn.metrics._plot.confusion_matrix.ConfusionMatrixDisplay at 0x7f2c67225490>"
            ]
          },
          "metadata": {},
          "execution_count": 87
        },
        {
          "output_type": "display_data",
          "data": {
            "text/plain": [
              "<Figure size 1080x576 with 2 Axes>"
            ],
            "image/png": "[encoded data removed]"
          },
          "metadata": {}
        }
      ]
    },
    {
      "cell_type": "code",
      "source": [
        "print(classification_report(y_val, predictions))"
      ],
      "metadata": {
        "id": "zZ7U_2-IkV_M"
      },
      "execution_count": null,
      "outputs": []
    },
    {
      "cell_type": "code",
      "source": [
        "#랜덤포레스트 모델 사용해보기\n",
        "\n",
        "pipe1 = make_pipeline(OrdinalEncoder(handle_unknown= 'use_encoded_value', unknown_value=np.nan),\n",
        "                     SimpleImputer(),\n",
        "                     RandomForestClassifier(class_weight = \"balanced\", min_samples_leaf = 5, max_depth = 20, random_state = 2, n_jobs = -1, oob_score=True ))\n",
        "\n",
        "pipe1.fit(X_train2, y_train2)\n",
        "pred1 = pipe1.predict(X_val)\n",
        "print(\"훈련세트의 정확도: \", pipe1.score(X_train2, y_train2))\n",
        "print(\"검증세트의 정확도: \", pipe1.score(X_val,y_val))\n",
        "print(classification_report(y_val, pred1))"
      ],
      "metadata": {
        "id": "JpMzeIebgJ_a"
      },
      "execution_count": null,
      "outputs": []
    },
    {
      "cell_type": "code",
      "source": [
        "df.corr().iloc[:,0].sort_values(ascending = False)"
      ],
      "metadata": {
        "colab": {
          "base_uri": "https://localhost:8080/"
        },
        "id": "lxZWOPDMFkLk",
        "outputId": "d6399930-9067-4230-9813-2ea7d5727915"
      },
      "execution_count": 31,
      "outputs": [
        {
          "output_type": "execute_result",
          "data": {
            "text/plain": [
              "Year            1.000000\n",
              "Victim_Age     -0.009608\n",
              "Crime_Solved   -0.031480\n",
              "Name: Year, dtype: float64"
            ]
          },
          "metadata": {},
          "execution_count": 31
        }
      ]
    },
    {
      "cell_type": "markdown",
      "source": [
        "**Randomized CV 적용해서 하이퍼파라미터의 최적값 찾기**"
      ],
      "metadata": {
        "id": "pMgsm-3ydd2b"
      }
    },
    {
      "cell_type": "code",
      "source": [
        "X_train.describe(exclude = 'number')"
      ],
      "metadata": {
        "id": "A-8svJkZgHDq"
      },
      "execution_count": null,
      "outputs": []
    },
    {
      "cell_type": "code",
      "source": [
        "pipe_CV = Pipeline([\n",
        "                        ('encode', make_pipeline(TargetEncoder(),SimpleImputer(),OrdinalEncoder(handle_unknown= 'use_encoded_value', unknown_value=np.nan))),\n",
        "                        ('RF', RandomForestClassifier(class_weight = \"balanced\", random_state = 2, n_jobs = -1 ))\n",
        "])\n",
        "\n",
        "dists = {\n",
        "    'RF__bootstrap': [True, False],\n",
        "    'RF__max_depth': [10, 20, 30,None],\n",
        "    'RF__max_features': ['auto', 'sqrt'],\n",
        "    'RF__min_samples_leaf': [1, 2, 4],\n",
        "    'RF__min_samples_split': [2, 5, 10],\n",
        "    'RF__n_estimators': [20,50,100],\n",
        "    \"RF__criterion\": ['gini', 'entropy']\n",
        "}\n",
        "\n",
        "clf = RandomizedSearchCV(\n",
        "    pipe_CV, \n",
        "    param_distributions=dists, \n",
        "    n_iter=50, \n",
        "    cv=3,\n",
        "    scoring='f1',\n",
        "    verbose=1,\n",
        "    n_jobs=-1\n",
        ")\n",
        "\n",
        "clf.fit(X_train, y_train);"
      ],
      "metadata": {
        "id": "huyEELLuctYF",
        "colab": {
          "base_uri": "https://localhost:8080/"
        },
        "outputId": "ccc6f36c-6792-4610-c7c4-a7fd199014ed"
      },
      "execution_count": 42,
      "outputs": [
        {
          "output_type": "stream",
          "name": "stdout",
          "text": [
            "Fitting 3 folds for each of 50 candidates, totalling 150 fits\n"
          ]
        }
      ]
    },
    {
      "cell_type": "code",
      "source": [
        "print('best parameters: ', clf.best_params_)\n",
        "print('score: ', clf.best_score_)"
      ],
      "metadata": {
        "colab": {
          "base_uri": "https://localhost:8080/"
        },
        "id": "yaaW8RAlXWmh",
        "outputId": "9aea7b31-530e-4e2d-e70a-f3ee71cbf4f9"
      },
      "execution_count": 44,
      "outputs": [
        {
          "output_type": "stream",
          "name": "stdout",
          "text": [
            "best parameters:  {'RF__n_estimators': 100, 'RF__min_samples_split': 5, 'RF__min_samples_leaf': 1, 'RF__max_features': 'auto', 'RF__max_depth': None, 'RF__criterion': 'gini', 'RF__bootstrap': True}\n",
            "score:  0.897661652300291\n"
          ]
        }
      ]
    },
    {
      "cell_type": "code",
      "source": [
        "pipe_CV_rf = clf.best_estimator_"
      ],
      "metadata": {
        "id": "rrwZDiZLzebM"
      },
      "execution_count": 66,
      "outputs": []
    },
    {
      "cell_type": "code",
      "source": [
        "print(\"훈련세트의 정확도: \", pipe_CV_rf.score(X_train, y_train))\n",
        "print(\"검증세트의 정확도: \", pipe_CV_rf.score(X_val,y_val))"
      ],
      "metadata": {
        "colab": {
          "base_uri": "https://localhost:8080/"
        },
        "id": "ZbombsYeYbc5",
        "outputId": "f1f3b3c1-46d1-4906-8487-70a1269bda9b"
      },
      "execution_count": 47,
      "outputs": [
        {
          "output_type": "stream",
          "name": "stdout",
          "text": [
            "훈련세트의 정확도:  0.956923480308489\n",
            "검증세트의 정확도:  0.8630005748227629\n"
          ]
        }
      ]
    },
    {
      "cell_type": "code",
      "source": [
        "predictions_rf = pipe_CV_rf.predict(X_val)"
      ],
      "metadata": {
        "id": "cFG_EvO20c88"
      },
      "execution_count": 48,
      "outputs": []
    },
    {
      "cell_type": "code",
      "source": [
        "print(classification_report(y_val, predictions_rf))"
      ],
      "metadata": {
        "colab": {
          "base_uri": "https://localhost:8080/"
        },
        "id": "4_oO5qJg0YMz",
        "outputId": "793273e7-5ac9-4a54-828c-b3e0fc9316fd"
      },
      "execution_count": 49,
      "outputs": [
        {
          "output_type": "stream",
          "name": "stdout",
          "text": [
            "              precision    recall  f1-score   support\n",
            "\n",
            "           0       0.73      0.85      0.79     29412\n",
            "           1       0.93      0.87      0.90     69749\n",
            "\n",
            "    accuracy                           0.86     99161\n",
            "   macro avg       0.83      0.86      0.84     99161\n",
            "weighted avg       0.87      0.86      0.87     99161\n",
            "\n"
          ]
        }
      ]
    },
    {
      "cell_type": "code",
      "source": [
        "# 특성 중요도\n",
        "CV_rf =pipe_CV_rf.named_steps['RF']\n",
        "importances = pd.Series(CV_rf.feature_importances_, X_train.columns)\n",
        "\n",
        "n = 20\n",
        "plt.figure(figsize=(10,10))\n",
        "plt.title(f'Top {n} features by importance')\n",
        "importances.sort_values()[-n:].plot.barh();"
      ],
      "metadata": {
        "colab": {
          "base_uri": "https://localhost:8080/",
          "height": 610
        },
        "id": "ss7bp08m1igq",
        "outputId": "eeed43b5-e90f-42de-a5cf-f7cb303c13ac"
      },
      "execution_count": 57,
      "outputs": [
        {
          "output_type": "display_data",
          "data": {
            "text/plain": [
              "<Figure size 720x720 with 1 Axes>"
            ],
            "image/png": "[encoded data removed]"
          },
          "metadata": {
            "needs_background": "light"
          }
        }
      ]
    },
    {
      "cell_type": "code",
      "source": [
        "permuter = PermutationImportance(\n",
        "    pipe_CV_rf.named_steps['RF'], # model\n",
        "    scoring = 'f1', # metric\n",
        "    n_iter = 5, # 다른 random seed를 사용하여 5번 반복\n",
        "    random_state = 2\n",
        ")\n",
        "\n",
        "# permuter 계산은 preprocessing 된 X_val를 사용한다.\n",
        "X_val_rf = pipe_CV_rf.named_steps['encode'].transform(X_val)\n",
        "\n",
        "# 실제로 fit 의미보다는 스코어를 다시 계산하는 작업이다\n",
        "permuter.fit(X_val_rf, y_val);"
      ],
      "metadata": {
        "id": "xUCxzW943T8M"
      },
      "execution_count": 63,
      "outputs": []
    },
    {
      "cell_type": "code",
      "source": [
        "feature_names = X_val.columns.tolist()\n",
        "\n",
        "# 특성별 score 확인\n",
        "eli5.show_weights(\n",
        "    permuter, \n",
        "    top = None, \n",
        "    feature_names = feature_names \n",
        ")"
      ],
      "metadata": {
        "colab": {
          "base_uri": "https://localhost:8080/",
          "height": 243
        },
        "id": "hIrKvuBD6IVz",
        "outputId": "f2f84ee9-39ff-4cf5-fea2-9890a5fb8e2c"
      },
      "execution_count": 64,
      "outputs": [
        {
          "output_type": "execute_result",
          "data": {
            "text/plain": [
              "<IPython.core.display.HTML object>"
            ],
            "text/html": [
              "\n",
              "    <style>\n",
              "    table.eli5-weights tr:hover {\n",
              "        filter: brightness(85%);\n",
              "    }\n",
              "</style>\n",
              "\n",
              "\n",
              "\n",
              "    \n",
              "\n",
              "    \n",
              "\n",
              "    \n",
              "\n",
              "    \n",
              "\n",
              "    \n",
              "\n",
              "    \n",
              "\n",
              "\n",
              "    \n",
              "\n",
              "    \n",
              "\n",
              "    \n",
              "\n",
              "    \n",
              "\n",
              "    \n",
              "\n",
              "    \n",
              "\n",
              "\n",
              "    \n",
              "\n",
              "    \n",
              "\n",
              "    \n",
              "\n",
              "    \n",
              "\n",
              "    \n",
              "        <table class=\"eli5-weights eli5-feature-importances\" style=\"border-collapse: collapse; border: none; margin-top: 0em; table-layout: auto;\">\n",
              "    <thead>\n",
              "    <tr style=\"border: none;\">\n",
              "        <th style=\"padding: 0 1em 0 0.5em; text-align: right; border: none;\">Weight</th>\n",
              "        <th style=\"padding: 0 0.5em 0 0.5em; text-align: left; border: none;\">Feature</th>\n",
              "    </tr>\n",
              "    </thead>\n",
              "    <tbody>\n",
              "    \n",
              "        <tr style=\"background-color: hsl(120, 100.00%, 80.00%); border: none;\">\n",
              "            <td style=\"padding: 0 1em 0 0.5em; text-align: right; border: none;\">\n",
              "                0.2017\n",
              "                \n",
              "                    &plusmn; 0.0018\n",
              "                \n",
              "            </td>\n",
              "            <td style=\"padding: 0 0.5em 0 0.5em; text-align: left; border: none;\">\n",
              "                Relationship\n",
              "            </td>\n",
              "        </tr>\n",
              "    \n",
              "        <tr style=\"background-color: hsl(120, 100.00%, 95.81%); border: none;\">\n",
              "            <td style=\"padding: 0 1em 0 0.5em; text-align: right; border: none;\">\n",
              "                0.0216\n",
              "                \n",
              "                    &plusmn; 0.0013\n",
              "                \n",
              "            </td>\n",
              "            <td style=\"padding: 0 0.5em 0 0.5em; text-align: left; border: none;\">\n",
              "                Year\n",
              "            </td>\n",
              "        </tr>\n",
              "    \n",
              "        <tr style=\"background-color: hsl(120, 100.00%, 95.99%); border: none;\">\n",
              "            <td style=\"padding: 0 1em 0 0.5em; text-align: right; border: none;\">\n",
              "                0.0203\n",
              "                \n",
              "                    &plusmn; 0.0009\n",
              "                \n",
              "            </td>\n",
              "            <td style=\"padding: 0 0.5em 0 0.5em; text-align: left; border: none;\">\n",
              "                State\n",
              "            </td>\n",
              "        </tr>\n",
              "    \n",
              "        <tr style=\"background-color: hsl(120, 100.00%, 97.01%); border: none;\">\n",
              "            <td style=\"padding: 0 1em 0 0.5em; text-align: right; border: none;\">\n",
              "                0.0133\n",
              "                \n",
              "                    &plusmn; 0.0008\n",
              "                \n",
              "            </td>\n",
              "            <td style=\"padding: 0 0.5em 0 0.5em; text-align: left; border: none;\">\n",
              "                City\n",
              "            </td>\n",
              "        </tr>\n",
              "    \n",
              "        <tr style=\"background-color: hsl(120, 100.00%, 98.26%); border: none;\">\n",
              "            <td style=\"padding: 0 1em 0 0.5em; text-align: right; border: none;\">\n",
              "                0.0062\n",
              "                \n",
              "                    &plusmn; 0.0006\n",
              "                \n",
              "            </td>\n",
              "            <td style=\"padding: 0 0.5em 0 0.5em; text-align: left; border: none;\">\n",
              "                Weapon\n",
              "            </td>\n",
              "        </tr>\n",
              "    \n",
              "        <tr style=\"background-color: hsl(120, 100.00%, 98.50%); border: none;\">\n",
              "            <td style=\"padding: 0 1em 0 0.5em; text-align: right; border: none;\">\n",
              "                0.0050\n",
              "                \n",
              "                    &plusmn; 0.0004\n",
              "                \n",
              "            </td>\n",
              "            <td style=\"padding: 0 0.5em 0 0.5em; text-align: left; border: none;\">\n",
              "                Victim_Ethnicity\n",
              "            </td>\n",
              "        </tr>\n",
              "    \n",
              "        <tr style=\"background-color: hsl(120, 100.00%, 98.60%); border: none;\">\n",
              "            <td style=\"padding: 0 1em 0 0.5em; text-align: right; border: none;\">\n",
              "                0.0045\n",
              "                \n",
              "                    &plusmn; 0.0005\n",
              "                \n",
              "            </td>\n",
              "            <td style=\"padding: 0 0.5em 0 0.5em; text-align: left; border: none;\">\n",
              "                Victim_Age\n",
              "            </td>\n",
              "        </tr>\n",
              "    \n",
              "        <tr style=\"background-color: hsl(120, 100.00%, 99.21%); border: none;\">\n",
              "            <td style=\"padding: 0 1em 0 0.5em; text-align: right; border: none;\">\n",
              "                0.0020\n",
              "                \n",
              "                    &plusmn; 0.0005\n",
              "                \n",
              "            </td>\n",
              "            <td style=\"padding: 0 0.5em 0 0.5em; text-align: left; border: none;\">\n",
              "                Month\n",
              "            </td>\n",
              "        </tr>\n",
              "    \n",
              "        <tr style=\"background-color: hsl(120, 100.00%, 99.30%); border: none;\">\n",
              "            <td style=\"padding: 0 1em 0 0.5em; text-align: right; border: none;\">\n",
              "                0.0017\n",
              "                \n",
              "                    &plusmn; 0.0002\n",
              "                \n",
              "            </td>\n",
              "            <td style=\"padding: 0 0.5em 0 0.5em; text-align: left; border: none;\">\n",
              "                Agency_Type\n",
              "            </td>\n",
              "        </tr>\n",
              "    \n",
              "        <tr style=\"background-color: hsl(120, 100.00%, 99.39%); border: none;\">\n",
              "            <td style=\"padding: 0 1em 0 0.5em; text-align: right; border: none;\">\n",
              "                0.0014\n",
              "                \n",
              "                    &plusmn; 0.0002\n",
              "                \n",
              "            </td>\n",
              "            <td style=\"padding: 0 0.5em 0 0.5em; text-align: left; border: none;\">\n",
              "                Crime_Type\n",
              "            </td>\n",
              "        </tr>\n",
              "    \n",
              "        <tr style=\"background-color: hsl(120, 100.00%, 99.40%); border: none;\">\n",
              "            <td style=\"padding: 0 1em 0 0.5em; text-align: right; border: none;\">\n",
              "                0.0013\n",
              "                \n",
              "                    &plusmn; 0.0005\n",
              "                \n",
              "            </td>\n",
              "            <td style=\"padding: 0 0.5em 0 0.5em; text-align: left; border: none;\">\n",
              "                Victim_Race\n",
              "            </td>\n",
              "        </tr>\n",
              "    \n",
              "        <tr style=\"background-color: hsl(120, 100.00%, 99.41%); border: none;\">\n",
              "            <td style=\"padding: 0 1em 0 0.5em; text-align: right; border: none;\">\n",
              "                0.0013\n",
              "                \n",
              "                    &plusmn; 0.0004\n",
              "                \n",
              "            </td>\n",
              "            <td style=\"padding: 0 0.5em 0 0.5em; text-align: left; border: none;\">\n",
              "                Victim_Sex\n",
              "            </td>\n",
              "        </tr>\n",
              "    \n",
              "    \n",
              "    </tbody>\n",
              "</table>\n",
              "    \n",
              "\n",
              "    \n",
              "\n",
              "\n",
              "    \n",
              "\n",
              "    \n",
              "\n",
              "    \n",
              "\n",
              "    \n",
              "\n",
              "    \n",
              "\n",
              "    \n",
              "\n",
              "\n",
              "\n"
            ]
          },
          "metadata": {},
          "execution_count": 64
        }
      ]
    },
    {
      "cell_type": "code",
      "source": [
        "#crime type, victim_sex 제거하고 학습해서 최종 성능 반환\n",
        "\n",
        "target = 'Crime_Solved'\n",
        "train, test = train_test_split(df, train_size = 0.90, test_size = 0.10,\n",
        "                               stratify = df[target], random_state = 2)\n",
        "\n",
        "\n",
        "y_train = train[target]\n",
        "X_train = train.copy().drop(columns = [target, 'Crime_Type', 'Victim_Sex'])\n",
        "\n",
        "y_test = test[target]\n",
        "X_test = test.copy().drop(columns = [target, 'Crime_Type', 'Victim_Sex'])"
      ],
      "metadata": {
        "id": "zsCeq4EF7gzK"
      },
      "execution_count": 65,
      "outputs": []
    },
    {
      "cell_type": "code",
      "source": [
        "pipe_rf_CV = Pipeline([\n",
        "                        ('encode', make_pipeline(TargetEncoder(),SimpleImputer(),OrdinalEncoder(handle_unknown= 'use_encoded_value', unknown_value=np.nan))),\n",
        "                        ('RF', RandomForestClassifier(class_weight = \"balanced\", \n",
        "                                                      random_state = 2, \n",
        "                                                      n_jobs = -1,\n",
        "                                                      n_estimators = 100,\n",
        "                                                      min_samples_split = 5,\n",
        "                                                      max_features = 'auto',\n",
        "                                                      max_depth = None,\n",
        "                                                      criterion = 'gini',\n",
        "                                                      bootstrap = True))\n",
        "])\n"
      ],
      "metadata": {
        "id": "Mer70ff38y_8"
      },
      "execution_count": 69,
      "outputs": []
    },
    {
      "cell_type": "code",
      "source": [
        "#일반화 성능 확인\n",
        "k = 10\n",
        "scores = cross_val_score(pipe_rf_CV, X_train, y_train, cv = k, scoring = 'f1')\n",
        "\n",
        "print(f'f1_score for {k} folds:', scores)"
      ],
      "metadata": {
        "colab": {
          "base_uri": "https://localhost:8080/"
        },
        "id": "9q_FEWmJ93BG",
        "outputId": "bd993fad-a898-4077-c995-f6645a0582aa"
      },
      "execution_count": 77,
      "outputs": [
        {
          "output_type": "stream",
          "name": "stdout",
          "text": [
            "f1_score for 10 folds: [0.90173563 0.90142704 0.89908836 0.9013921  0.89887759 0.89826826\n",
            " 0.89957231 0.89970953 0.89777766 0.90026399]\n"
          ]
        }
      ]
    },
    {
      "cell_type": "code",
      "source": [
        "scores.mean()"
      ],
      "metadata": {
        "colab": {
          "base_uri": "https://localhost:8080/"
        },
        "id": "AUkpiCKR-EAr",
        "outputId": "adb18f2f-2001-47a2-8b65-384d70fe3bce"
      },
      "execution_count": 78,
      "outputs": [
        {
          "output_type": "execute_result",
          "data": {
            "text/plain": [
              "0.8998112471103739"
            ]
          },
          "metadata": {},
          "execution_count": 78
        }
      ]
    },
    {
      "cell_type": "code",
      "source": [
        "pipe_rf_CV.fit(X_train, y_train)\n",
        "print('훈련 정확도: ', pipe_rf_CV.score(X_train, y_train))"
      ],
      "metadata": {
        "colab": {
          "base_uri": "https://localhost:8080/"
        },
        "id": "KC4TshtYHfGl",
        "outputId": "5db999ee-c492-440d-ca09-9f7ac04a4df7"
      },
      "execution_count": 79,
      "outputs": [
        {
          "output_type": "stream",
          "name": "stdout",
          "text": [
            "훈련 정확도:  0.9561134427793087\n"
          ]
        }
      ]
    },
    {
      "cell_type": "code",
      "source": [
        "print('테스트 정확도: ', pipe_rf_CV.score(X_test, y_test))"
      ],
      "metadata": {
        "colab": {
          "base_uri": "https://localhost:8080/"
        },
        "id": "PSaIVPIaCkfw",
        "outputId": "0c96cad3-7de1-42bd-9640-b82edd6fd4b0"
      },
      "execution_count": 81,
      "outputs": [
        {
          "output_type": "stream",
          "name": "stdout",
          "text": [
            "테스트 정확도:  0.8641248225119401\n"
          ]
        }
      ]
    }
  ],
  "metadata": {
    "colab": {
      "collapsed_sections": [],
      "name": "Dexter.ipynb의 사본",
      "provenance": [],
      "authorship_tag": "ABX9TyNGuRpkXfSOpOicUxerSjEf",
      "include_colab_link": true
    },
    "kernelspec": {
      "display_name": "Python 3",
      "name": "python3"
    },
    "language_info": {
      "name": "python"
    }
  },
  "nbformat": 4,
  "nbformat_minor": 0
}